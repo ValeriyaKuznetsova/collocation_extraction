{
  "nbformat": 4,
  "nbformat_minor": 0,
  "metadata": {
    "colab": {
      "name": "German-English collocation extraction.ipynb",
      "provenance": [],
      "collapsed_sections": [
        "0WIdaKoC709B",
        "9uce3QWFIV9d",
        "A4hOevyXNab-",
        "SL4Yp4L0PTAE",
        "x56Qca2gPMMO",
        "SMr2QrEwPuFV",
        "ChaZrLZ6PsYL"
      ],
      "toc_visible": true,
      "authorship_tag": "ABX9TyMLCwOEfkRgazTa9Zksozn0",
      "include_colab_link": true
    },
    "kernelspec": {
      "name": "python3",
      "display_name": "Python 3"
    },
    "language_info": {
      "name": "python"
    },
    "widgets": {
      "application/vnd.jupyter.widget-state+json": {
        "9b2200d6e2634a53adc67b481f3877c4": {
          "model_module": "@jupyter-widgets/controls",
          "model_name": "HBoxModel",
          "state": {
            "_view_name": "HBoxView",
            "_dom_classes": [],
            "_model_name": "HBoxModel",
            "_view_module": "@jupyter-widgets/controls",
            "_model_module_version": "1.5.0",
            "_view_count": null,
            "_view_module_version": "1.5.0",
            "box_style": "",
            "layout": "IPY_MODEL_2df7e386bbbc47679dbcab31de521ae3",
            "_model_module": "@jupyter-widgets/controls",
            "children": [
              "IPY_MODEL_134aaba09b4b4394833c629bd81572d8",
              "IPY_MODEL_7dd1b81d368247ca98b8cd8ea1987f76"
            ]
          }
        },
        "2df7e386bbbc47679dbcab31de521ae3": {
          "model_module": "@jupyter-widgets/base",
          "model_name": "LayoutModel",
          "state": {
            "_view_name": "LayoutView",
            "grid_template_rows": null,
            "right": null,
            "justify_content": null,
            "_view_module": "@jupyter-widgets/base",
            "overflow": null,
            "_model_module_version": "1.2.0",
            "_view_count": null,
            "flex_flow": null,
            "width": null,
            "min_width": null,
            "border": null,
            "align_items": null,
            "bottom": null,
            "_model_module": "@jupyter-widgets/base",
            "top": null,
            "grid_column": null,
            "overflow_y": null,
            "overflow_x": null,
            "grid_auto_flow": null,
            "grid_area": null,
            "grid_template_columns": null,
            "flex": null,
            "_model_name": "LayoutModel",
            "justify_items": null,
            "grid_row": null,
            "max_height": null,
            "align_content": null,
            "visibility": null,
            "align_self": null,
            "height": null,
            "min_height": null,
            "padding": null,
            "grid_auto_rows": null,
            "grid_gap": null,
            "max_width": null,
            "order": null,
            "_view_module_version": "1.2.0",
            "grid_template_areas": null,
            "object_position": null,
            "object_fit": null,
            "grid_auto_columns": null,
            "margin": null,
            "display": null,
            "left": null
          }
        },
        "134aaba09b4b4394833c629bd81572d8": {
          "model_module": "@jupyter-widgets/controls",
          "model_name": "FloatProgressModel",
          "state": {
            "_view_name": "ProgressView",
            "style": "IPY_MODEL_d9657588a5394b98a3e4facc0a66ad81",
            "_dom_classes": [],
            "description": "100%",
            "_model_name": "FloatProgressModel",
            "bar_style": "success",
            "max": 201855,
            "_view_module": "@jupyter-widgets/controls",
            "_model_module_version": "1.5.0",
            "value": 201855,
            "_view_count": null,
            "_view_module_version": "1.5.0",
            "orientation": "horizontal",
            "min": 0,
            "description_tooltip": null,
            "_model_module": "@jupyter-widgets/controls",
            "layout": "IPY_MODEL_2baeace6b15c4f758419baa28fd96e51"
          }
        },
        "7dd1b81d368247ca98b8cd8ea1987f76": {
          "model_module": "@jupyter-widgets/controls",
          "model_name": "HTMLModel",
          "state": {
            "_view_name": "HTMLView",
            "style": "IPY_MODEL_982efeafc3cc49a685563daec7d83c79",
            "_dom_classes": [],
            "description": "",
            "_model_name": "HTMLModel",
            "placeholder": "​",
            "_view_module": "@jupyter-widgets/controls",
            "_model_module_version": "1.5.0",
            "value": " 201855/201855 [42:49&lt;00:00, 78.55it/s]",
            "_view_count": null,
            "_view_module_version": "1.5.0",
            "description_tooltip": null,
            "_model_module": "@jupyter-widgets/controls",
            "layout": "IPY_MODEL_261c8ebb1d2f425d9b7cd44c112a17c2"
          }
        },
        "d9657588a5394b98a3e4facc0a66ad81": {
          "model_module": "@jupyter-widgets/controls",
          "model_name": "ProgressStyleModel",
          "state": {
            "_view_name": "StyleView",
            "_model_name": "ProgressStyleModel",
            "description_width": "initial",
            "_view_module": "@jupyter-widgets/base",
            "_model_module_version": "1.5.0",
            "_view_count": null,
            "_view_module_version": "1.2.0",
            "bar_color": null,
            "_model_module": "@jupyter-widgets/controls"
          }
        },
        "2baeace6b15c4f758419baa28fd96e51": {
          "model_module": "@jupyter-widgets/base",
          "model_name": "LayoutModel",
          "state": {
            "_view_name": "LayoutView",
            "grid_template_rows": null,
            "right": null,
            "justify_content": null,
            "_view_module": "@jupyter-widgets/base",
            "overflow": null,
            "_model_module_version": "1.2.0",
            "_view_count": null,
            "flex_flow": null,
            "width": null,
            "min_width": null,
            "border": null,
            "align_items": null,
            "bottom": null,
            "_model_module": "@jupyter-widgets/base",
            "top": null,
            "grid_column": null,
            "overflow_y": null,
            "overflow_x": null,
            "grid_auto_flow": null,
            "grid_area": null,
            "grid_template_columns": null,
            "flex": null,
            "_model_name": "LayoutModel",
            "justify_items": null,
            "grid_row": null,
            "max_height": null,
            "align_content": null,
            "visibility": null,
            "align_self": null,
            "height": null,
            "min_height": null,
            "padding": null,
            "grid_auto_rows": null,
            "grid_gap": null,
            "max_width": null,
            "order": null,
            "_view_module_version": "1.2.0",
            "grid_template_areas": null,
            "object_position": null,
            "object_fit": null,
            "grid_auto_columns": null,
            "margin": null,
            "display": null,
            "left": null
          }
        },
        "982efeafc3cc49a685563daec7d83c79": {
          "model_module": "@jupyter-widgets/controls",
          "model_name": "DescriptionStyleModel",
          "state": {
            "_view_name": "StyleView",
            "_model_name": "DescriptionStyleModel",
            "description_width": "",
            "_view_module": "@jupyter-widgets/base",
            "_model_module_version": "1.5.0",
            "_view_count": null,
            "_view_module_version": "1.2.0",
            "_model_module": "@jupyter-widgets/controls"
          }
        },
        "261c8ebb1d2f425d9b7cd44c112a17c2": {
          "model_module": "@jupyter-widgets/base",
          "model_name": "LayoutModel",
          "state": {
            "_view_name": "LayoutView",
            "grid_template_rows": null,
            "right": null,
            "justify_content": null,
            "_view_module": "@jupyter-widgets/base",
            "overflow": null,
            "_model_module_version": "1.2.0",
            "_view_count": null,
            "flex_flow": null,
            "width": null,
            "min_width": null,
            "border": null,
            "align_items": null,
            "bottom": null,
            "_model_module": "@jupyter-widgets/base",
            "top": null,
            "grid_column": null,
            "overflow_y": null,
            "overflow_x": null,
            "grid_auto_flow": null,
            "grid_area": null,
            "grid_template_columns": null,
            "flex": null,
            "_model_name": "LayoutModel",
            "justify_items": null,
            "grid_row": null,
            "max_height": null,
            "align_content": null,
            "visibility": null,
            "align_self": null,
            "height": null,
            "min_height": null,
            "padding": null,
            "grid_auto_rows": null,
            "grid_gap": null,
            "max_width": null,
            "order": null,
            "_view_module_version": "1.2.0",
            "grid_template_areas": null,
            "object_position": null,
            "object_fit": null,
            "grid_auto_columns": null,
            "margin": null,
            "display": null,
            "left": null
          }
        },
        "4638b81173a74c4a8e88aeea4f912966": {
          "model_module": "@jupyter-widgets/controls",
          "model_name": "HBoxModel",
          "state": {
            "_view_name": "HBoxView",
            "_dom_classes": [],
            "_model_name": "HBoxModel",
            "_view_module": "@jupyter-widgets/controls",
            "_model_module_version": "1.5.0",
            "_view_count": null,
            "_view_module_version": "1.5.0",
            "box_style": "",
            "layout": "IPY_MODEL_c21dbcb2ab0a486fb07e18918dc901ff",
            "_model_module": "@jupyter-widgets/controls",
            "children": [
              "IPY_MODEL_03818047f4d14c85a0db57e603823751",
              "IPY_MODEL_bfacf95272574f8a9c2aee2211195d64"
            ]
          }
        },
        "c21dbcb2ab0a486fb07e18918dc901ff": {
          "model_module": "@jupyter-widgets/base",
          "model_name": "LayoutModel",
          "state": {
            "_view_name": "LayoutView",
            "grid_template_rows": null,
            "right": null,
            "justify_content": null,
            "_view_module": "@jupyter-widgets/base",
            "overflow": null,
            "_model_module_version": "1.2.0",
            "_view_count": null,
            "flex_flow": null,
            "width": null,
            "min_width": null,
            "border": null,
            "align_items": null,
            "bottom": null,
            "_model_module": "@jupyter-widgets/base",
            "top": null,
            "grid_column": null,
            "overflow_y": null,
            "overflow_x": null,
            "grid_auto_flow": null,
            "grid_area": null,
            "grid_template_columns": null,
            "flex": null,
            "_model_name": "LayoutModel",
            "justify_items": null,
            "grid_row": null,
            "max_height": null,
            "align_content": null,
            "visibility": null,
            "align_self": null,
            "height": null,
            "min_height": null,
            "padding": null,
            "grid_auto_rows": null,
            "grid_gap": null,
            "max_width": null,
            "order": null,
            "_view_module_version": "1.2.0",
            "grid_template_areas": null,
            "object_position": null,
            "object_fit": null,
            "grid_auto_columns": null,
            "margin": null,
            "display": null,
            "left": null
          }
        },
        "03818047f4d14c85a0db57e603823751": {
          "model_module": "@jupyter-widgets/controls",
          "model_name": "FloatProgressModel",
          "state": {
            "_view_name": "ProgressView",
            "style": "IPY_MODEL_efd44d7fe1864669a51b8df408dc034a",
            "_dom_classes": [],
            "description": "100%",
            "_model_name": "FloatProgressModel",
            "bar_style": "success",
            "max": 201996,
            "_view_module": "@jupyter-widgets/controls",
            "_model_module_version": "1.5.0",
            "value": 201996,
            "_view_count": null,
            "_view_module_version": "1.5.0",
            "orientation": "horizontal",
            "min": 0,
            "description_tooltip": null,
            "_model_module": "@jupyter-widgets/controls",
            "layout": "IPY_MODEL_2a296a225b9b40f3a0bac73fa2d4ca50"
          }
        },
        "bfacf95272574f8a9c2aee2211195d64": {
          "model_module": "@jupyter-widgets/controls",
          "model_name": "HTMLModel",
          "state": {
            "_view_name": "HTMLView",
            "style": "IPY_MODEL_e26b8dd4308a4489b8c2b63cdd905496",
            "_dom_classes": [],
            "description": "",
            "_model_name": "HTMLModel",
            "placeholder": "​",
            "_view_module": "@jupyter-widgets/controls",
            "_model_module_version": "1.5.0",
            "value": " 201996/201996 [2:48:11&lt;00:00, 20.02it/s]",
            "_view_count": null,
            "_view_module_version": "1.5.0",
            "description_tooltip": null,
            "_model_module": "@jupyter-widgets/controls",
            "layout": "IPY_MODEL_b8909167a24b4052bdd65d8e84e2146e"
          }
        },
        "efd44d7fe1864669a51b8df408dc034a": {
          "model_module": "@jupyter-widgets/controls",
          "model_name": "ProgressStyleModel",
          "state": {
            "_view_name": "StyleView",
            "_model_name": "ProgressStyleModel",
            "description_width": "initial",
            "_view_module": "@jupyter-widgets/base",
            "_model_module_version": "1.5.0",
            "_view_count": null,
            "_view_module_version": "1.2.0",
            "bar_color": null,
            "_model_module": "@jupyter-widgets/controls"
          }
        },
        "2a296a225b9b40f3a0bac73fa2d4ca50": {
          "model_module": "@jupyter-widgets/base",
          "model_name": "LayoutModel",
          "state": {
            "_view_name": "LayoutView",
            "grid_template_rows": null,
            "right": null,
            "justify_content": null,
            "_view_module": "@jupyter-widgets/base",
            "overflow": null,
            "_model_module_version": "1.2.0",
            "_view_count": null,
            "flex_flow": null,
            "width": null,
            "min_width": null,
            "border": null,
            "align_items": null,
            "bottom": null,
            "_model_module": "@jupyter-widgets/base",
            "top": null,
            "grid_column": null,
            "overflow_y": null,
            "overflow_x": null,
            "grid_auto_flow": null,
            "grid_area": null,
            "grid_template_columns": null,
            "flex": null,
            "_model_name": "LayoutModel",
            "justify_items": null,
            "grid_row": null,
            "max_height": null,
            "align_content": null,
            "visibility": null,
            "align_self": null,
            "height": null,
            "min_height": null,
            "padding": null,
            "grid_auto_rows": null,
            "grid_gap": null,
            "max_width": null,
            "order": null,
            "_view_module_version": "1.2.0",
            "grid_template_areas": null,
            "object_position": null,
            "object_fit": null,
            "grid_auto_columns": null,
            "margin": null,
            "display": null,
            "left": null
          }
        },
        "e26b8dd4308a4489b8c2b63cdd905496": {
          "model_module": "@jupyter-widgets/controls",
          "model_name": "DescriptionStyleModel",
          "state": {
            "_view_name": "StyleView",
            "_model_name": "DescriptionStyleModel",
            "description_width": "",
            "_view_module": "@jupyter-widgets/base",
            "_model_module_version": "1.5.0",
            "_view_count": null,
            "_view_module_version": "1.2.0",
            "_model_module": "@jupyter-widgets/controls"
          }
        },
        "b8909167a24b4052bdd65d8e84e2146e": {
          "model_module": "@jupyter-widgets/base",
          "model_name": "LayoutModel",
          "state": {
            "_view_name": "LayoutView",
            "grid_template_rows": null,
            "right": null,
            "justify_content": null,
            "_view_module": "@jupyter-widgets/base",
            "overflow": null,
            "_model_module_version": "1.2.0",
            "_view_count": null,
            "flex_flow": null,
            "width": null,
            "min_width": null,
            "border": null,
            "align_items": null,
            "bottom": null,
            "_model_module": "@jupyter-widgets/base",
            "top": null,
            "grid_column": null,
            "overflow_y": null,
            "overflow_x": null,
            "grid_auto_flow": null,
            "grid_area": null,
            "grid_template_columns": null,
            "flex": null,
            "_model_name": "LayoutModel",
            "justify_items": null,
            "grid_row": null,
            "max_height": null,
            "align_content": null,
            "visibility": null,
            "align_self": null,
            "height": null,
            "min_height": null,
            "padding": null,
            "grid_auto_rows": null,
            "grid_gap": null,
            "max_width": null,
            "order": null,
            "_view_module_version": "1.2.0",
            "grid_template_areas": null,
            "object_position": null,
            "object_fit": null,
            "grid_auto_columns": null,
            "margin": null,
            "display": null,
            "left": null
          }
        },
        "bc32faacdc61497a82fe32052c3593dc": {
          "model_module": "@jupyter-widgets/controls",
          "model_name": "HBoxModel",
          "state": {
            "_view_name": "HBoxView",
            "_dom_classes": [],
            "_model_name": "HBoxModel",
            "_view_module": "@jupyter-widgets/controls",
            "_model_module_version": "1.5.0",
            "_view_count": null,
            "_view_module_version": "1.5.0",
            "box_style": "",
            "layout": "IPY_MODEL_be6f069e58604b60bea48f739afde5bd",
            "_model_module": "@jupyter-widgets/controls",
            "children": [
              "IPY_MODEL_49b86df3058e4793862f344fa6df26db",
              "IPY_MODEL_0c0b9e583bae457f9fdcc294556cd709"
            ]
          }
        },
        "be6f069e58604b60bea48f739afde5bd": {
          "model_module": "@jupyter-widgets/base",
          "model_name": "LayoutModel",
          "state": {
            "_view_name": "LayoutView",
            "grid_template_rows": null,
            "right": null,
            "justify_content": null,
            "_view_module": "@jupyter-widgets/base",
            "overflow": null,
            "_model_module_version": "1.2.0",
            "_view_count": null,
            "flex_flow": null,
            "width": null,
            "min_width": null,
            "border": null,
            "align_items": null,
            "bottom": null,
            "_model_module": "@jupyter-widgets/base",
            "top": null,
            "grid_column": null,
            "overflow_y": null,
            "overflow_x": null,
            "grid_auto_flow": null,
            "grid_area": null,
            "grid_template_columns": null,
            "flex": null,
            "_model_name": "LayoutModel",
            "justify_items": null,
            "grid_row": null,
            "max_height": null,
            "align_content": null,
            "visibility": null,
            "align_self": null,
            "height": null,
            "min_height": null,
            "padding": null,
            "grid_auto_rows": null,
            "grid_gap": null,
            "max_width": null,
            "order": null,
            "_view_module_version": "1.2.0",
            "grid_template_areas": null,
            "object_position": null,
            "object_fit": null,
            "grid_auto_columns": null,
            "margin": null,
            "display": null,
            "left": null
          }
        },
        "49b86df3058e4793862f344fa6df26db": {
          "model_module": "@jupyter-widgets/controls",
          "model_name": "FloatProgressModel",
          "state": {
            "_view_name": "ProgressView",
            "style": "IPY_MODEL_f40db348c9954c2b93359b4efaf6e600",
            "_dom_classes": [],
            "description": "",
            "_model_name": "FloatProgressModel",
            "bar_style": "success",
            "max": 1,
            "_view_module": "@jupyter-widgets/controls",
            "_model_module_version": "1.5.0",
            "value": 1,
            "_view_count": null,
            "_view_module_version": "1.5.0",
            "orientation": "horizontal",
            "min": 0,
            "description_tooltip": null,
            "_model_module": "@jupyter-widgets/controls",
            "layout": "IPY_MODEL_1cffeaceb27f41118d704bae0046b314"
          }
        },
        "0c0b9e583bae457f9fdcc294556cd709": {
          "model_module": "@jupyter-widgets/controls",
          "model_name": "HTMLModel",
          "state": {
            "_view_name": "HTMLView",
            "style": "IPY_MODEL_e7c4d199ae434cc3a27d1a147f52534f",
            "_dom_classes": [],
            "description": "",
            "_model_name": "HTMLModel",
            "placeholder": "​",
            "_view_module": "@jupyter-widgets/controls",
            "_model_module_version": "1.5.0",
            "value": " 100/? [04:58&lt;00:00,  2.98s/it]",
            "_view_count": null,
            "_view_module_version": "1.5.0",
            "description_tooltip": null,
            "_model_module": "@jupyter-widgets/controls",
            "layout": "IPY_MODEL_e2cdb3d17cb946e296b010fc370c17fe"
          }
        },
        "f40db348c9954c2b93359b4efaf6e600": {
          "model_module": "@jupyter-widgets/controls",
          "model_name": "ProgressStyleModel",
          "state": {
            "_view_name": "StyleView",
            "_model_name": "ProgressStyleModel",
            "description_width": "initial",
            "_view_module": "@jupyter-widgets/base",
            "_model_module_version": "1.5.0",
            "_view_count": null,
            "_view_module_version": "1.2.0",
            "bar_color": null,
            "_model_module": "@jupyter-widgets/controls"
          }
        },
        "1cffeaceb27f41118d704bae0046b314": {
          "model_module": "@jupyter-widgets/base",
          "model_name": "LayoutModel",
          "state": {
            "_view_name": "LayoutView",
            "grid_template_rows": null,
            "right": null,
            "justify_content": null,
            "_view_module": "@jupyter-widgets/base",
            "overflow": null,
            "_model_module_version": "1.2.0",
            "_view_count": null,
            "flex_flow": null,
            "width": null,
            "min_width": null,
            "border": null,
            "align_items": null,
            "bottom": null,
            "_model_module": "@jupyter-widgets/base",
            "top": null,
            "grid_column": null,
            "overflow_y": null,
            "overflow_x": null,
            "grid_auto_flow": null,
            "grid_area": null,
            "grid_template_columns": null,
            "flex": null,
            "_model_name": "LayoutModel",
            "justify_items": null,
            "grid_row": null,
            "max_height": null,
            "align_content": null,
            "visibility": null,
            "align_self": null,
            "height": null,
            "min_height": null,
            "padding": null,
            "grid_auto_rows": null,
            "grid_gap": null,
            "max_width": null,
            "order": null,
            "_view_module_version": "1.2.0",
            "grid_template_areas": null,
            "object_position": null,
            "object_fit": null,
            "grid_auto_columns": null,
            "margin": null,
            "display": null,
            "left": null
          }
        },
        "e7c4d199ae434cc3a27d1a147f52534f": {
          "model_module": "@jupyter-widgets/controls",
          "model_name": "DescriptionStyleModel",
          "state": {
            "_view_name": "StyleView",
            "_model_name": "DescriptionStyleModel",
            "description_width": "",
            "_view_module": "@jupyter-widgets/base",
            "_model_module_version": "1.5.0",
            "_view_count": null,
            "_view_module_version": "1.2.0",
            "_model_module": "@jupyter-widgets/controls"
          }
        },
        "e2cdb3d17cb946e296b010fc370c17fe": {
          "model_module": "@jupyter-widgets/base",
          "model_name": "LayoutModel",
          "state": {
            "_view_name": "LayoutView",
            "grid_template_rows": null,
            "right": null,
            "justify_content": null,
            "_view_module": "@jupyter-widgets/base",
            "overflow": null,
            "_model_module_version": "1.2.0",
            "_view_count": null,
            "flex_flow": null,
            "width": null,
            "min_width": null,
            "border": null,
            "align_items": null,
            "bottom": null,
            "_model_module": "@jupyter-widgets/base",
            "top": null,
            "grid_column": null,
            "overflow_y": null,
            "overflow_x": null,
            "grid_auto_flow": null,
            "grid_area": null,
            "grid_template_columns": null,
            "flex": null,
            "_model_name": "LayoutModel",
            "justify_items": null,
            "grid_row": null,
            "max_height": null,
            "align_content": null,
            "visibility": null,
            "align_self": null,
            "height": null,
            "min_height": null,
            "padding": null,
            "grid_auto_rows": null,
            "grid_gap": null,
            "max_width": null,
            "order": null,
            "_view_module_version": "1.2.0",
            "grid_template_areas": null,
            "object_position": null,
            "object_fit": null,
            "grid_auto_columns": null,
            "margin": null,
            "display": null,
            "left": null
          }
        }
      }
    }
  },
  "cells": [
    {
      "cell_type": "markdown",
      "metadata": {
        "id": "view-in-github",
        "colab_type": "text"
      },
      "source": [
        "<a href=\"https://colab.research.google.com/github/ValeriyaKuznetsova/collocation_extraction/blob/main/German_English_collocation_extraction.ipynb\" target=\"_parent\"><img src=\"https://colab.research.google.com/assets/colab-badge.svg\" alt=\"Open In Colab\"/></a>"
      ]
    },
    {
      "cell_type": "markdown",
      "metadata": {
        "id": "97pF5fvHD9ky"
      },
      "source": [
        "## Install multivec"
      ]
    },
    {
      "cell_type": "markdown",
      "metadata": {
        "id": "zyDXcMXFEAKc"
      },
      "source": [
        "https://github.com/alex-berard/multivec"
      ]
    },
    {
      "cell_type": "code",
      "metadata": {
        "id": "qUMMOxsRDbNA",
        "colab": {
          "base_uri": "https://localhost:8080/"
        },
        "outputId": "e9e41ad7-68b6-432e-bb82-113a07615133"
      },
      "source": [
        "!git clone https://github.com/eske/multivec.git\n",
        "!mkdir multivec/build\n",
        "%cd multivec/build\n",
        "!cmake ..\n",
        "!make\n",
        "%cd ..\n",
        "!mkdir models\n",
        "!mkdir data"
      ],
      "execution_count": null,
      "outputs": [
        {
          "output_type": "stream",
          "text": [
            "Cloning into 'multivec'...\n",
            "remote: Enumerating objects: 1167, done.\u001b[K\n",
            "remote: Total 1167 (delta 0), reused 0 (delta 0), pack-reused 1167\u001b[K\n",
            "Receiving objects: 100% (1167/1167), 726.90 KiB | 2.86 MiB/s, done.\n",
            "Resolving deltas: 100% (777/777), done.\n",
            "/content/multivec/build\n",
            "-- The C compiler identification is GNU 7.5.0\n",
            "-- The CXX compiler identification is GNU 7.5.0\n",
            "-- Check for working C compiler: /usr/bin/cc\n",
            "-- Check for working C compiler: /usr/bin/cc -- works\n",
            "-- Detecting C compiler ABI info\n",
            "-- Detecting C compiler ABI info - done\n",
            "-- Detecting C compile features\n",
            "-- Detecting C compile features - done\n",
            "-- Check for working CXX compiler: /usr/bin/c++\n",
            "-- Check for working CXX compiler: /usr/bin/c++ -- works\n",
            "-- Detecting CXX compiler ABI info\n",
            "-- Detecting CXX compiler ABI info - done\n",
            "-- Detecting CXX compile features\n",
            "-- Detecting CXX compile features - done\n",
            "-- Looking for pthread.h\n",
            "-- Looking for pthread.h - found\n",
            "-- Looking for pthread_create\n",
            "-- Looking for pthread_create - not found\n",
            "-- Looking for pthread_create in pthreads\n",
            "-- Looking for pthread_create in pthreads - not found\n",
            "-- Looking for pthread_create in pthread\n",
            "-- Looking for pthread_create in pthread - found\n",
            "-- Found Threads: TRUE  \n",
            "-- Configuring done\n",
            "-- Generating done\n",
            "-- Build files have been written to: /content/multivec/build\n",
            "\u001b[35m\u001b[1mScanning dependencies of target multivec-mono\u001b[0m\n",
            "[  4%] \u001b[32mBuilding CXX object CMakeFiles/multivec-mono.dir/multivec/main-mono.cpp.o\u001b[0m\n",
            "[  9%] \u001b[32mBuilding CXX object CMakeFiles/multivec-mono.dir/multivec/monolingual.cpp.o\u001b[0m\n",
            "[ 14%] \u001b[32mBuilding CXX object CMakeFiles/multivec-mono.dir/multivec/distance.cpp.o\u001b[0m\n",
            "[ 19%] \u001b[32m\u001b[1mLinking CXX executable ../bin/multivec-mono\u001b[0m\n",
            "[ 19%] Built target multivec-mono\n",
            "\u001b[35m\u001b[1mScanning dependencies of target multivec-bi\u001b[0m\n",
            "[ 23%] \u001b[32mBuilding CXX object CMakeFiles/multivec-bi.dir/multivec/main-bi.cpp.o\u001b[0m\n",
            "[ 28%] \u001b[32mBuilding CXX object CMakeFiles/multivec-bi.dir/multivec/bilingual.cpp.o\u001b[0m\n",
            "[ 33%] \u001b[32mBuilding CXX object CMakeFiles/multivec-bi.dir/multivec/monolingual.cpp.o\u001b[0m\n",
            "[ 38%] \u001b[32m\u001b[1mLinking CXX executable ../bin/multivec-bi\u001b[0m\n",
            "[ 38%] Built target multivec-bi\n",
            "\u001b[35m\u001b[1mScanning dependencies of target word2vec\u001b[0m\n",
            "[ 42%] \u001b[32mBuilding CXX object CMakeFiles/word2vec.dir/word2vec/word2vec-main.cpp.o\u001b[0m\n",
            "[ 47%] \u001b[32mBuilding CXX object CMakeFiles/word2vec.dir/word2vec/word2vec.cpp.o\u001b[0m\n",
            "[ 52%] \u001b[32m\u001b[1mLinking CXX executable ../bin/word2vec\u001b[0m\n",
            "[ 52%] Built target word2vec\n",
            "\u001b[35m\u001b[1mScanning dependencies of target multivec\u001b[0m\n",
            "[ 57%] \u001b[32mBuilding CXX object CMakeFiles/multivec.dir/multivec/monolingual.cpp.o\u001b[0m\n",
            "[ 61%] \u001b[32mBuilding CXX object CMakeFiles/multivec.dir/multivec/bilingual.cpp.o\u001b[0m\n",
            "[ 66%] \u001b[32mBuilding CXX object CMakeFiles/multivec.dir/multivec/distance.cpp.o\u001b[0m\n",
            "[ 71%] \u001b[32m\u001b[1mLinking CXX shared library ../lib/libmultivec.so\u001b[0m\n",
            "[ 71%] Built target multivec\n",
            "\u001b[35m\u001b[1mScanning dependencies of target multivec-static\u001b[0m\n",
            "[ 76%] \u001b[32mBuilding CXX object CMakeFiles/multivec-static.dir/multivec/monolingual.cpp.o\u001b[0m\n",
            "[ 80%] \u001b[32mBuilding CXX object CMakeFiles/multivec-static.dir/multivec/bilingual.cpp.o\u001b[0m\n",
            "[ 85%] \u001b[32mBuilding CXX object CMakeFiles/multivec-static.dir/multivec/distance.cpp.o\u001b[0m\n",
            "[ 90%] \u001b[32m\u001b[1mLinking CXX static library libmultivec.a\u001b[0m\n",
            "[ 90%] Built target multivec-static\n",
            "\u001b[35m\u001b[1mScanning dependencies of target compute-accuracy\u001b[0m\n",
            "[ 95%] \u001b[32mBuilding CXX object CMakeFiles/compute-accuracy.dir/word2vec/compute-accuracy.cpp.o\u001b[0m\n",
            "[100%] \u001b[32m\u001b[1mLinking CXX executable ../bin/compute-accuracy\u001b[0m\n",
            "[100%] Built target compute-accuracy\n",
            "/content/multivec\n"
          ],
          "name": "stdout"
        }
      ]
    },
    {
      "cell_type": "markdown",
      "metadata": {
        "id": "0WIdaKoC709B"
      },
      "source": [
        "## Get the corpus"
      ]
    },
    {
      "cell_type": "markdown",
      "metadata": {
        "id": "bmhGR6siG1CD"
      },
      "source": [
        "Corpus: http://www.statmt.org/wmt14/quality-estimation-task.html\n",
        "\n",
        "This corpus consists of parallel sentences in different languages. We need German and English.\n",
        "\n",
        "First, let's download the corpus."
      ]
    },
    {
      "cell_type": "code",
      "metadata": {
        "colab": {
          "base_uri": "https://localhost:8080/"
        },
        "id": "TmRjbks8GoCr",
        "outputId": "bd410c15-da2b-49db-d46b-f04bb89284b9"
      },
      "source": [
        "!wget http://www.statmt.org/wmt14/training-parallel-nc-v9.tgz -P data\n",
        "!tar xzf data/training-parallel-nc-v9.tgz -C data"
      ],
      "execution_count": null,
      "outputs": [
        {
          "output_type": "stream",
          "text": [
            "--2021-05-26 06:38:02--  http://www.statmt.org/wmt14/training-parallel-nc-v9.tgz\n",
            "Resolving www.statmt.org (www.statmt.org)... 129.215.197.184\n",
            "Connecting to www.statmt.org (www.statmt.org)|129.215.197.184|:80... connected.\n",
            "HTTP request sent, awaiting response... 200 OK\n",
            "Length: 80418416 (77M) [application/x-gzip]\n",
            "Saving to: ‘data/training-parallel-nc-v9.tgz’\n",
            "\n",
            "training-parallel-n 100%[===================>]  76.69M  1.57MB/s    in 49s     \n",
            "\n",
            "2021-05-26 06:38:51 (1.57 MB/s) - ‘data/training-parallel-nc-v9.tgz’ saved [80418416/80418416]\n",
            "\n"
          ],
          "name": "stdout"
        }
      ]
    },
    {
      "cell_type": "code",
      "metadata": {
        "id": "7fcX18agHsmp"
      },
      "source": [
        "with open('data/training/news-commentary-v9.de-en.de', 'r') as f:\n",
        "    german_corpus = f.read()"
      ],
      "execution_count": null,
      "outputs": []
    },
    {
      "cell_type": "code",
      "metadata": {
        "id": "3-QF8YfHIHf2"
      },
      "source": [
        "with open('data/training/news-commentary-v9.de-en.en', 'r') as f:\n",
        "    english_corpus = f.read()"
      ],
      "execution_count": null,
      "outputs": []
    },
    {
      "cell_type": "markdown",
      "metadata": {
        "id": "58km8uxDKVL4"
      },
      "source": [
        "As we can see, the sentences are separated by `\\n`."
      ]
    },
    {
      "cell_type": "code",
      "metadata": {
        "colab": {
          "base_uri": "https://localhost:8080/",
          "height": 54
        },
        "id": "wRr23SBQH-vq",
        "outputId": "bec7deca-9c2b-4ed1-a7e0-0f591340b792"
      },
      "source": [
        "german_corpus[:100]"
      ],
      "execution_count": null,
      "outputs": [
        {
          "output_type": "execute_result",
          "data": {
            "application/vnd.google.colaboratory.intrinsic+json": {
              "type": "string"
            },
            "text/plain": [
              "'Steigt Gold auf 10.000 Dollar?\\nSAN FRANCISCO – Es war noch nie leicht, ein rationales Gespräch über '"
            ]
          },
          "metadata": {
            "tags": []
          },
          "execution_count": 14
        }
      ]
    },
    {
      "cell_type": "code",
      "metadata": {
        "colab": {
          "base_uri": "https://localhost:8080/",
          "height": 54
        },
        "id": "730vDi2OIMCZ",
        "outputId": "2b81a7ea-3f29-4bf1-f866-70228769a058"
      },
      "source": [
        "english_corpus[:100]"
      ],
      "execution_count": null,
      "outputs": [
        {
          "output_type": "execute_result",
          "data": {
            "application/vnd.google.colaboratory.intrinsic+json": {
              "type": "string"
            },
            "text/plain": [
              "'$10,000 Gold?\\nSAN FRANCISCO – It has never been easy to have a rational conversation about the value'"
            ]
          },
          "metadata": {
            "tags": []
          },
          "execution_count": 15
        }
      ]
    },
    {
      "cell_type": "markdown",
      "metadata": {
        "id": "9uce3QWFIV9d"
      },
      "source": [
        "# Preprocess the corpus"
      ]
    },
    {
      "cell_type": "markdown",
      "metadata": {
        "id": "HIzNNhWGJH5e"
      },
      "source": [
        "In this part, sentences are tokenized and lemmatized; punctuation marks, digits are removed.\n",
        "\n",
        "For this we'll use the Python library `spacy`."
      ]
    },
    {
      "cell_type": "markdown",
      "metadata": {
        "id": "GZXOFN7NJHSO"
      },
      "source": [
        "All tags (POS and DEP): https://github.com/explosion/spaCy/blob/master/spacy/glossary.py\n",
        "\n",
        "Dependency tags explained: https://universaldependencies.org/u/dep/"
      ]
    },
    {
      "cell_type": "markdown",
      "metadata": {
        "id": "Xh_bOlK9Ib-a"
      },
      "source": [
        "## Install libraries"
      ]
    },
    {
      "cell_type": "markdown",
      "metadata": {
        "id": "N8pYWkIxIbFf"
      },
      "source": [
        "First, we need to install and import all necessary libraries."
      ]
    },
    {
      "cell_type": "code",
      "metadata": {
        "id": "PqfrCLbIIYq-"
      },
      "source": [
        "!pip install spacy==3.0.0"
      ],
      "execution_count": null,
      "outputs": []
    },
    {
      "cell_type": "code",
      "metadata": {
        "id": "Fei8tEnqIe2t"
      },
      "source": [
        "import spacy"
      ],
      "execution_count": null,
      "outputs": []
    },
    {
      "cell_type": "markdown",
      "metadata": {
        "id": "rGms78P_IjbK"
      },
      "source": [
        "As we work with English and German, we need to download necessary spacy models for these languages."
      ]
    },
    {
      "cell_type": "code",
      "metadata": {
        "id": "WKBJHAWuIZXw"
      },
      "source": [
        "!python3 -m spacy download en_core_web_sm"
      ],
      "execution_count": null,
      "outputs": []
    },
    {
      "cell_type": "code",
      "metadata": {
        "id": "WklCQ9MjInkU"
      },
      "source": [
        "!python3 -m spacy download de_core_news_sm"
      ],
      "execution_count": null,
      "outputs": []
    },
    {
      "cell_type": "markdown",
      "metadata": {
        "id": "PVxn5acSIrtv"
      },
      "source": [
        "## Visualize dependency trees"
      ]
    },
    {
      "cell_type": "markdown",
      "metadata": {
        "id": "zlEwaVF2IuRc"
      },
      "source": [
        "Let's see how `spacy` works. We'll draw English and German dependency trees with lemmas and tags."
      ]
    },
    {
      "cell_type": "code",
      "metadata": {
        "id": "dCAWkmmTIsi6"
      },
      "source": [
        "from nltk import Tree\n",
        "\n",
        "def tok_format(tok):\n",
        "    return \"_\".join([tok.lemma_, tok.pos_])\n",
        "\n",
        "\n",
        "def to_nltk_tree(node):\n",
        "    if node.n_lefts + node.n_rights > 0:\n",
        "        return Tree(tok_format(node), [to_nltk_tree(child) for child in node.children])\n",
        "    else:\n",
        "        return tok_format(node)"
      ],
      "execution_count": null,
      "outputs": []
    },
    {
      "cell_type": "code",
      "metadata": {
        "colab": {
          "base_uri": "https://localhost:8080/"
        },
        "id": "2lZ4G_I_Ixmc",
        "outputId": "ec94b6fa-2c33-4ea0-cd34-8bf0bfa7df83"
      },
      "source": [
        "en_nlp = spacy.load(\"en_core_web_sm\")\n",
        "doc =  en_nlp(\"So why is it so hard to pay attention\")\n",
        "[to_nltk_tree(sent.root).pretty_print() for sent in doc.sents]"
      ],
      "execution_count": null,
      "outputs": [
        {
          "output_type": "stream",
          "text": [
            "                be_AUX                                        \n",
            "   _______________|______________                              \n",
            "  |       |       |           hard_ADJ                        \n",
            "  |       |       |       _______|________                     \n",
            "  |       |       |      |             pay_VERB               \n",
            "  |       |       |      |        ________|___________         \n",
            "so_ADV why_ADV it_PRON so_ADV to_PART           attention_NOUN\n",
            "\n"
          ],
          "name": "stdout"
        },
        {
          "output_type": "execute_result",
          "data": {
            "text/plain": [
              "[None]"
            ]
          },
          "metadata": {
            "tags": []
          },
          "execution_count": 10
        }
      ]
    },
    {
      "cell_type": "code",
      "metadata": {
        "colab": {
          "base_uri": "https://localhost:8080/"
        },
        "id": "wrzO48xcIziK",
        "outputId": "40e9904f-6d73-4287-a8d2-fa4137433e58"
      },
      "source": [
        "de_nlp = spacy.load(\"de_core_news_sm\")\n",
        "doc = de_nlp(\"Warum ist es also so schwer aufmerksam zu sein\")\n",
        "[to_nltk_tree(sent.root).pretty_print() for sent in doc.sents]"
      ],
      "execution_count": null,
      "outputs": [
        {
          "output_type": "stream",
          "text": [
            "                   sein_AUX                                \n",
            "     _________________|________________                     \n",
            "    |        |        |             mein_AUX               \n",
            "    |        |        |         _______|___________         \n",
            "    |        |        |        |             aufmerksam_ADV\n",
            "    |        |        |        |                   |        \n",
            "    |        |        |        |               schwer_ADV  \n",
            "    |        |        |        |                   |        \n",
            "warum_ADV ich_PRON also_ADV zu_PART              so_ADV    \n",
            "\n"
          ],
          "name": "stdout"
        },
        {
          "output_type": "execute_result",
          "data": {
            "text/plain": [
              "[None]"
            ]
          },
          "metadata": {
            "tags": []
          },
          "execution_count": 11
        }
      ]
    },
    {
      "cell_type": "markdown",
      "metadata": {
        "id": "0-sDi2tqI835"
      },
      "source": [
        "The explanation of tags can be found at the beginning of this section."
      ]
    },
    {
      "cell_type": "code",
      "metadata": {
        "colab": {
          "base_uri": "https://localhost:8080/",
          "height": 37
        },
        "id": "CLZ8MVKsI9MN",
        "outputId": "a5edbf18-271a-4ea0-df84-9c293d5887ae"
      },
      "source": [
        "spacy.explain('PART')"
      ],
      "execution_count": null,
      "outputs": [
        {
          "output_type": "execute_result",
          "data": {
            "application/vnd.google.colaboratory.intrinsic+json": {
              "type": "string"
            },
            "text/plain": [
              "'particle'"
            ]
          },
          "metadata": {
            "tags": []
          },
          "execution_count": 15
        }
      ]
    },
    {
      "cell_type": "markdown",
      "metadata": {
        "id": "qG-yFFj5JN8Y"
      },
      "source": [
        "## Tokenize and lemmatize the corpus"
      ]
    },
    {
      "cell_type": "markdown",
      "metadata": {
        "id": "Xrao9HFtJVEb"
      },
      "source": [
        "Now we can tokenize the German and English sentences."
      ]
    },
    {
      "cell_type": "code",
      "metadata": {
        "id": "j4bvTsYEJTd-"
      },
      "source": [
        "from tqdm import tqdm_notebook"
      ],
      "execution_count": null,
      "outputs": []
    },
    {
      "cell_type": "code",
      "metadata": {
        "id": "nCq0fK-5JW4k"
      },
      "source": [
        "def tokenize_corpus(corpus: str, language : str = 'english') -> tuple:\n",
        "    \"\"\"\n",
        "    Accepted languages are 'english' and 'german'.\n",
        "    It returns a tuple with tokens and a tuple with tokenized sentences.\n",
        "    \"\"\"\n",
        "    \n",
        "    if language == 'german':\n",
        "        nlp = spacy.load(\"de_core_news_sm\")\n",
        "    elif language == 'english':\n",
        "        nlp = spacy.load(\"en_core_web_sm\")\n",
        "    \n",
        "    tokens = []\n",
        "    sentences = []\n",
        "    for sentence in tqdm_notebook(corpus.split('\\n')):\n",
        "        doc = nlp(sentence)\n",
        "        tokenized_sentence = [token.lemma_ for token in doc if token.pos_ != 'PUNCT' and not token.text.isdigit()]\n",
        "        if tokenized_sentence:\n",
        "            tokens.extend(tokenized_sentence)\n",
        "            sentences.append(tuple(tokenized_sentence))\n",
        "\n",
        "    return tuple(tokens), tuple(sentences)"
      ],
      "execution_count": null,
      "outputs": []
    },
    {
      "cell_type": "code",
      "metadata": {
        "colab": {
          "base_uri": "https://localhost:8080/",
          "height": 137,
          "referenced_widgets": [
            "9b2200d6e2634a53adc67b481f3877c4",
            "2df7e386bbbc47679dbcab31de521ae3",
            "134aaba09b4b4394833c629bd81572d8",
            "7dd1b81d368247ca98b8cd8ea1987f76",
            "d9657588a5394b98a3e4facc0a66ad81",
            "2baeace6b15c4f758419baa28fd96e51",
            "982efeafc3cc49a685563daec7d83c79",
            "261c8ebb1d2f425d9b7cd44c112a17c2"
          ]
        },
        "id": "XifX0iQILnJ1",
        "outputId": "331b2131-f04b-4916-e7da-ceeb48f32d4d"
      },
      "source": [
        "german_tokens, german_sentences = tokenize_corpus(german_corpus, 'german')"
      ],
      "execution_count": null,
      "outputs": [
        {
          "output_type": "stream",
          "text": [
            "/usr/local/lib/python3.7/dist-packages/ipykernel_launcher.py:14: TqdmDeprecationWarning: This function will be removed in tqdm==5.0.0\n",
            "Please use `tqdm.notebook.tqdm` instead of `tqdm.tqdm_notebook`\n",
            "  \n"
          ],
          "name": "stderr"
        },
        {
          "output_type": "display_data",
          "data": {
            "application/vnd.jupyter.widget-view+json": {
              "model_id": "9b2200d6e2634a53adc67b481f3877c4",
              "version_minor": 0,
              "version_major": 2
            },
            "text/plain": [
              "HBox(children=(FloatProgress(value=0.0, max=201855.0), HTML(value='')))"
            ]
          },
          "metadata": {
            "tags": []
          }
        },
        {
          "output_type": "stream",
          "text": [
            "\n"
          ],
          "name": "stdout"
        }
      ]
    },
    {
      "cell_type": "code",
      "metadata": {
        "colab": {
          "base_uri": "https://localhost:8080/"
        },
        "id": "aBQph6zvMnYD",
        "outputId": "5cccd8ae-243b-4c3d-c7dd-143304efc97a"
      },
      "source": [
        "print(german_tokens[:10])"
      ],
      "execution_count": null,
      "outputs": [
        {
          "output_type": "stream",
          "text": [
            "('Steigt', 'Gold', 'auf', '10.000', 'Dollar', 'SAN', 'FRANCISCO', 'ich', 'sein', 'noch')\n"
          ],
          "name": "stdout"
        }
      ]
    },
    {
      "cell_type": "code",
      "metadata": {
        "colab": {
          "base_uri": "https://localhost:8080/"
        },
        "id": "BAGI3fruMtNo",
        "outputId": "e47f2104-b2ec-4826-fa7f-e2cf247d4597"
      },
      "source": [
        "print(german_sentences[:2])"
      ],
      "execution_count": null,
      "outputs": [
        {
          "output_type": "stream",
          "text": [
            "(('Steigt', 'Gold', 'auf', '10.000', 'Dollar'), ('SAN', 'FRANCISCO', 'ich', 'sein', 'noch', 'nie', 'leicht', 'einen', 'rational', 'Gespräch', 'über', 'der', 'Wert', 'von', 'Gold', 'zu', 'fahren'))\n"
          ],
          "name": "stdout"
        }
      ]
    },
    {
      "cell_type": "code",
      "metadata": {
        "colab": {
          "base_uri": "https://localhost:8080/",
          "height": 137,
          "referenced_widgets": [
            "4638b81173a74c4a8e88aeea4f912966",
            "c21dbcb2ab0a486fb07e18918dc901ff",
            "03818047f4d14c85a0db57e603823751",
            "bfacf95272574f8a9c2aee2211195d64",
            "efd44d7fe1864669a51b8df408dc034a",
            "2a296a225b9b40f3a0bac73fa2d4ca50",
            "e26b8dd4308a4489b8c2b63cdd905496",
            "b8909167a24b4052bdd65d8e84e2146e"
          ]
        },
        "id": "s64v39Z0MXos",
        "outputId": "5ac40e74-55a9-4b70-9c42-60fb08ac5ea1"
      },
      "source": [
        "english_tokens, english_sentences = tokenize_corpus(english_corpus, 'english')"
      ],
      "execution_count": null,
      "outputs": [
        {
          "output_type": "stream",
          "text": [
            "/usr/local/lib/python3.7/dist-packages/ipykernel_launcher.py:14: TqdmDeprecationWarning: This function will be removed in tqdm==5.0.0\n",
            "Please use `tqdm.notebook.tqdm` instead of `tqdm.tqdm_notebook`\n",
            "  \n"
          ],
          "name": "stderr"
        },
        {
          "output_type": "display_data",
          "data": {
            "application/vnd.jupyter.widget-view+json": {
              "model_id": "4638b81173a74c4a8e88aeea4f912966",
              "version_minor": 0,
              "version_major": 2
            },
            "text/plain": [
              "HBox(children=(FloatProgress(value=0.0, max=201996.0), HTML(value='')))"
            ]
          },
          "metadata": {
            "tags": []
          }
        },
        {
          "output_type": "stream",
          "text": [
            "\n"
          ],
          "name": "stdout"
        }
      ]
    },
    {
      "cell_type": "markdown",
      "metadata": {
        "id": "oCvsM6UbAL-G"
      },
      "source": [
        "The problem is that there is a different number of sentences. We suppose that there are some extra sentences in English at the end, and all other sentences are parallel."
      ]
    },
    {
      "cell_type": "code",
      "metadata": {
        "colab": {
          "base_uri": "https://localhost:8080/"
        },
        "id": "_ekz0U0SMCkU",
        "outputId": "6ea98a16-35fa-453e-b2b1-1c2d88c946f0"
      },
      "source": [
        "print('NUMBER OF WORDS (GERMAN):', len(german_tokens))\n",
        "print('NUMBER OF SENTENCES (GERMAN):', len(german_sentences))"
      ],
      "execution_count": null,
      "outputs": [
        {
          "output_type": "stream",
          "text": [
            "NUMBER OF WORDS (GERMAN): 4456395\n",
            "NUMBER OF SENTENCES (GERMAN): 201570\n"
          ],
          "name": "stdout"
        }
      ]
    },
    {
      "cell_type": "code",
      "metadata": {
        "colab": {
          "base_uri": "https://localhost:8080/"
        },
        "id": "13iuGrkNMbqu",
        "outputId": "d3d16291-70f3-4c48-d0c2-f1e6aa4d317f"
      },
      "source": [
        "print('NUMBER OF WORDS (ENGLISH):', len(english_tokens))\n",
        "print('NUMBER OF SENTENCES (ENGLISH):', len(english_sentences))"
      ],
      "execution_count": null,
      "outputs": [
        {
          "output_type": "stream",
          "text": [
            "NUMBER OF WORDS (ENGLISH): 4462014\n",
            "NUMBER OF SENTENCES (ENGLISH): 201584\n"
          ],
          "name": "stdout"
        }
      ]
    },
    {
      "cell_type": "code",
      "metadata": {
        "colab": {
          "base_uri": "https://localhost:8080/"
        },
        "id": "jOZJx9v-gA2d",
        "outputId": "26cdb947-14f0-4961-dce8-8ec8f8aeb864"
      },
      "source": [
        "cd .."
      ],
      "execution_count": null,
      "outputs": [
        {
          "output_type": "stream",
          "text": [
            "/content\n"
          ],
          "name": "stdout"
        }
      ]
    },
    {
      "cell_type": "markdown",
      "metadata": {
        "id": "HG-daMmdNB-4"
      },
      "source": [
        "We need to save our data that we do not need to calculate it each time."
      ]
    },
    {
      "cell_type": "code",
      "metadata": {
        "id": "htmynoL-NDhU"
      },
      "source": [
        "with open(\"data/german_corpus\", \"w\") as fp:\n",
        "    fp.write('\\n'.join([' '.join(sentence) for sentence in german_sentences])) "
      ],
      "execution_count": null,
      "outputs": []
    },
    {
      "cell_type": "code",
      "metadata": {
        "id": "oX_HGoglV1Ii"
      },
      "source": [
        "with open(\"data/english_corpus\", \"w\") as fp:\n",
        "    fp.write('\\n'.join([' '.join(sentence) for sentence in english_sentences])) "
      ],
      "execution_count": null,
      "outputs": []
    },
    {
      "cell_type": "code",
      "metadata": {
        "id": "SHIM4KqiG2JI"
      },
      "source": [
        "import json"
      ],
      "execution_count": null,
      "outputs": []
    },
    {
      "cell_type": "code",
      "metadata": {
        "id": "MVi_7t0UEwhT"
      },
      "source": [
        "with open(\"german_tokens.json\", \"w\") as fp:\n",
        "    json.dump(german_tokens, fp) "
      ],
      "execution_count": null,
      "outputs": []
    },
    {
      "cell_type": "code",
      "metadata": {
        "id": "t_tXp8dmNFNF"
      },
      "source": [
        "with open(\"german_sentences.json\", \"w\") as fp:\n",
        "    json.dump(german_sentences, fp) "
      ],
      "execution_count": null,
      "outputs": []
    },
    {
      "cell_type": "code",
      "metadata": {
        "id": "kPbaWZKfNI5K"
      },
      "source": [
        "with open(\"english_tokens.json\", \"w\") as fp:\n",
        "    json.dump(english_tokens, fp) "
      ],
      "execution_count": null,
      "outputs": []
    },
    {
      "cell_type": "code",
      "metadata": {
        "id": "6WAkV2K3NLIO"
      },
      "source": [
        "with open(\"english_sentences.json\", \"w\") as fp:\n",
        "    json.dump(english_sentences, fp) "
      ],
      "execution_count": null,
      "outputs": []
    },
    {
      "cell_type": "markdown",
      "metadata": {
        "id": "r_y_GbzpNRmK"
      },
      "source": [
        "This way we can download it later."
      ]
    },
    {
      "cell_type": "code",
      "metadata": {
        "id": "3bi8HEnWNTDP"
      },
      "source": [
        "with open('german_tokens.json') as json_file:\n",
        "    german_tokens = json.load(json_file)"
      ],
      "execution_count": null,
      "outputs": []
    },
    {
      "cell_type": "code",
      "metadata": {
        "id": "0Z1IpThQNTiw"
      },
      "source": [
        "with open('german_sentences.json') as json_file:\n",
        "    german_sentences = json.load(json_file)"
      ],
      "execution_count": null,
      "outputs": []
    },
    {
      "cell_type": "code",
      "metadata": {
        "id": "6YyAFsQxNU1R"
      },
      "source": [
        "with open('english_tokens.json') as json_file:\n",
        "    english_tokens = json.load(json_file)"
      ],
      "execution_count": null,
      "outputs": []
    },
    {
      "cell_type": "code",
      "metadata": {
        "id": "0g0dcAvvNWNs"
      },
      "source": [
        "with open('english_sentences.json') as json_file:\n",
        "    english_sentences = json.load(json_file)"
      ],
      "execution_count": null,
      "outputs": []
    },
    {
      "cell_type": "markdown",
      "metadata": {
        "id": "A4hOevyXNab-"
      },
      "source": [
        "# Apply the statistical method"
      ]
    },
    {
      "cell_type": "markdown",
      "metadata": {
        "id": "M2YWrFDiNboC"
      },
      "source": [
        "In this section, association measures are applied to extract possible collocations."
      ]
    },
    {
      "cell_type": "markdown",
      "metadata": {
        "id": "SL4Yp4L0PTAE"
      },
      "source": [
        "## Get collocation candidates with association measures"
      ]
    },
    {
      "cell_type": "markdown",
      "metadata": {
        "id": "gp7CTNj1Nidy"
      },
      "source": [
        "We will use nltk.collocations to get collocation with association measures."
      ]
    },
    {
      "cell_type": "markdown",
      "metadata": {
        "id": "Z8LasN94Nkb4"
      },
      "source": [
        "Overview: https://www.nltk.org/howto/collocations.html\n",
        "\n",
        "https://www.nltk.org/_modules/nltk/collocations.html\n",
        "\n",
        "https://www.nltk.org/_modules/nltk/metrics/association.html"
      ]
    },
    {
      "cell_type": "code",
      "metadata": {
        "id": "5xqpCFEyNgJu"
      },
      "source": [
        "from nltk.collocations import BigramCollocationFinder\n",
        "from nltk.metrics import BigramAssocMeasures\n",
        "bigram_measures = BigramAssocMeasures()"
      ],
      "execution_count": null,
      "outputs": []
    },
    {
      "cell_type": "markdown",
      "metadata": {
        "id": "QcSHposqNqbV"
      },
      "source": [
        "We can find all bigram collocations in the English and German corpora"
      ]
    },
    {
      "cell_type": "code",
      "metadata": {
        "id": "dzpoVioHNmX0"
      },
      "source": [
        "english_finder = BigramCollocationFinder.from_words(english_tokens)"
      ],
      "execution_count": null,
      "outputs": []
    },
    {
      "cell_type": "code",
      "metadata": {
        "id": "7nUxMsJ_NuAQ"
      },
      "source": [
        "german_finder = BigramCollocationFinder.from_words(german_tokens)"
      ],
      "execution_count": null,
      "outputs": []
    },
    {
      "cell_type": "markdown",
      "metadata": {
        "id": "XUOP3R0oN4oG"
      },
      "source": [
        "Let's see how many possible bigram collocations are there."
      ]
    },
    {
      "cell_type": "code",
      "metadata": {
        "colab": {
          "base_uri": "https://localhost:8080/"
        },
        "id": "b0_ZrWO7N5B6",
        "outputId": "d780c908-f446-4b9f-be4a-8325089779c2"
      },
      "source": [
        "english_bigrams = english_finder.nbest(BigramAssocMeasures.mi_like, 10000000)\n",
        "german_bigrams = german_finder.nbest(BigramAssocMeasures.mi_like, 10000000)\n",
        "len(english_bigrams), len(german_bigrams)"
      ],
      "execution_count": null,
      "outputs": [
        {
          "output_type": "execute_result",
          "data": {
            "text/plain": [
              "(1004833, 1326789)"
            ]
          },
          "metadata": {
            "tags": []
          },
          "execution_count": 21
        }
      ]
    },
    {
      "cell_type": "markdown",
      "metadata": {
        "id": "WJb0urgyOBHH"
      },
      "source": [
        "Let's look at top 10 English and German bigram collocations."
      ]
    },
    {
      "cell_type": "code",
      "metadata": {
        "colab": {
          "base_uri": "https://localhost:8080/"
        },
        "id": "g3TrhJj-OBi9",
        "outputId": "839c6586-33b9-42ff-ce1f-e5372802b7eb"
      },
      "source": [
        "english_bigrams[:10]"
      ],
      "execution_count": null,
      "outputs": [
        {
          "output_type": "execute_result",
          "data": {
            "text/plain": [
              "[('United', 'States'),\n",
              " ('Middle', 'East'),\n",
              " ('of', 'the'),\n",
              " ('Prime', 'Minister'),\n",
              " ('in', 'the'),\n",
              " ('Saudi', 'Arabia'),\n",
              " ('Federal', 'Reserve'),\n",
              " ('Hong', 'Kong'),\n",
              " ('$', 'billion'),\n",
              " ('do', 'not')]"
            ]
          },
          "metadata": {
            "tags": []
          },
          "execution_count": 62
        }
      ]
    },
    {
      "cell_type": "code",
      "metadata": {
        "colab": {
          "base_uri": "https://localhost:8080/"
        },
        "id": "UNs9CDyaOHOH",
        "outputId": "70387bf3-a387-4297-a35e-6baa9fdbdd4c"
      },
      "source": [
        "german_bigrams[:10]"
      ],
      "execution_count": null,
      "outputs": [
        {
          "output_type": "execute_result",
          "data": {
            "text/plain": [
              "[('in', 'der'),\n",
              " ('Nahe', 'Osten'),\n",
              " ('&', '#'),\n",
              " ('Vereinigte', 'Staat'),\n",
              " ('NEW', 'YORK'),\n",
              " ('Darüber', 'hinaus'),\n",
              " ('Vereinte', 'Nation'),\n",
              " ('George', 'W.'),\n",
              " ('New', 'York'),\n",
              " ('und', 'der')]"
            ]
          },
          "metadata": {
            "tags": []
          },
          "execution_count": 22
        }
      ]
    },
    {
      "cell_type": "markdown",
      "metadata": {
        "id": "x56Qca2gPMMO"
      },
      "source": [
        "## Check frequency of a candidate"
      ]
    },
    {
      "cell_type": "markdown",
      "metadata": {
        "id": "Mz1NdFaLOb7r"
      },
      "source": [
        "We can check frequency of any collocation. \n",
        "\n",
        "Later we will use it to test whether some candidates occur several times within the corpus or not."
      ]
    },
    {
      "cell_type": "code",
      "metadata": {
        "id": "TvkjW7mcOdHw"
      },
      "source": [
        "def check_frequency(candidate: tuple, threshold : int = 10, language : str = 'english'):\n",
        "    if language == 'english':\n",
        "        frequency = english_finder.ngram_fd[candidate] + english_finder.ngram_fd[candidate[::-1]]\n",
        "    elif language == 'german':\n",
        "        frequency = german_finder.ngram_fd[candidate] + german_finder.ngram_fd[candidate[::-1]]\n",
        "    # print('Occured', frequency, 'times')\n",
        "    return frequency >= threshold"
      ],
      "execution_count": null,
      "outputs": []
    },
    {
      "cell_type": "code",
      "metadata": {
        "colab": {
          "base_uri": "https://localhost:8080/"
        },
        "id": "v8ui_-lEOjMY",
        "outputId": "26c4f8c6-e8f6-4983-e4e0-a0f3863935e3"
      },
      "source": [
        "check_frequency(('interest', 'rate'), 3, 'english')"
      ],
      "execution_count": null,
      "outputs": [
        {
          "output_type": "stream",
          "text": [
            "Occured 1767 times\n"
          ],
          "name": "stdout"
        },
        {
          "output_type": "execute_result",
          "data": {
            "text/plain": [
              "True"
            ]
          },
          "metadata": {
            "tags": []
          },
          "execution_count": 39
        }
      ]
    },
    {
      "cell_type": "code",
      "metadata": {
        "colab": {
          "base_uri": "https://localhost:8080/"
        },
        "id": "QbEIYUHcOwtl",
        "outputId": "321f8f3b-9df9-4dc4-abfe-f02ae11620f9"
      },
      "source": [
        "check_frequency(('Ansicht', 'nach'), 3, 'german')"
      ],
      "execution_count": null,
      "outputs": [
        {
          "output_type": "stream",
          "text": [
            "Occured 112 times\n"
          ],
          "name": "stdout"
        },
        {
          "output_type": "execute_result",
          "data": {
            "text/plain": [
              "True"
            ]
          },
          "metadata": {
            "tags": []
          },
          "execution_count": 66
        }
      ]
    },
    {
      "cell_type": "markdown",
      "metadata": {
        "id": "SMr2QrEwPuFV"
      },
      "source": [
        "# Apply the syntax-based method"
      ]
    },
    {
      "cell_type": "markdown",
      "metadata": {
        "id": "a9Bl8ZBlQyB0"
      },
      "source": [
        "In this section `spacy` is used to extract candidates of particular patterns, for example, verb + noun."
      ]
    },
    {
      "cell_type": "markdown",
      "metadata": {
        "id": "wi8L3r3B8nZv"
      },
      "source": [
        "For the syntactical analysis non-lemmatized corpus is needed; otherwise, a dependency tree would be incorrect."
      ]
    },
    {
      "cell_type": "markdown",
      "metadata": {
        "id": "ChaZrLZ6PsYL"
      },
      "source": [
        "## Get collocations using the dependency tree"
      ]
    },
    {
      "cell_type": "markdown",
      "metadata": {
        "id": "poNTc4_xPwiW"
      },
      "source": [
        "The first step is to get English and German collocation candidates."
      ]
    },
    {
      "cell_type": "code",
      "metadata": {
        "id": "6T7x9Do9P3G_"
      },
      "source": [
        "def extract_dependency_tree(sentence: str, language : str = 'english'):\n",
        "    \"\"\"\n",
        "    Accepted languages are 'english' and 'german'.\n",
        "    \"\"\"\n",
        "    if language == 'english':\n",
        "        syntax_parser = spacy.load(\"en_core_web_sm\")\n",
        "    elif language == 'german':\n",
        "        syntax_parser = spacy.load(\"de_core_news_sm\")\n",
        "    return syntax_parser(sentence)"
      ],
      "execution_count": null,
      "outputs": []
    },
    {
      "cell_type": "code",
      "metadata": {
        "id": "ip2s_NVlP5zG"
      },
      "source": [
        "def find_candidates(sentence: str, base_pos: str, collocate_pos: str,\n",
        "                    language : str = 'english'):\n",
        "    \"\"\"\n",
        "    Accepted languages are 'english' and 'german'.\n",
        "    Returns lemmatized and tokenized candidates.\n",
        "    The first word is the base, the second – the collocate.\n",
        "    \"\"\"\n",
        "    tree = extract_dependency_tree(sentence, language)\n",
        "    candidates = []\n",
        "    for token in tree:\n",
        "        if token.pos_ == base_pos:\n",
        "            relevant_children = [child for child in token.children if child.pos_ == collocate_pos]\n",
        "            if relevant_children:\n",
        "                candidates.extend([(token.lemma_, child.lemma_) for child in relevant_children])\n",
        "    return candidates"
      ],
      "execution_count": null,
      "outputs": []
    },
    {
      "cell_type": "markdown",
      "metadata": {
        "id": "UB8cPTQRQK6M"
      },
      "source": [
        "Let's look at some examples."
      ]
    },
    {
      "cell_type": "code",
      "metadata": {
        "colab": {
          "base_uri": "https://localhost:8080/"
        },
        "id": "_tdqIAYvQJid",
        "outputId": "852a40a8-4326-4786-ae25-1f15772e0cda"
      },
      "source": [
        "find_candidates('because it is really hard work', 'NOUN', 'ADJ', 'english')"
      ],
      "execution_count": null,
      "outputs": [
        {
          "output_type": "execute_result",
          "data": {
            "text/plain": [
              "[('work', 'hard')]"
            ]
          },
          "metadata": {
            "tags": []
          },
          "execution_count": 23
        }
      ]
    },
    {
      "cell_type": "code",
      "metadata": {
        "colab": {
          "base_uri": "https://localhost:8080/"
        },
        "id": "kWQ5iJHNQS6u",
        "outputId": "c0e4de9e-8f62-4af2-c0b1-8567d9d60673"
      },
      "source": [
        "find_candidates('weil es wirklich hartes Arbeit ist', 'NOUN', 'ADJ', 'german')"
      ],
      "execution_count": null,
      "outputs": [
        {
          "output_type": "execute_result",
          "data": {
            "text/plain": [
              "[('Arbeit', 'hart')]"
            ]
          },
          "metadata": {
            "tags": []
          },
          "execution_count": 24
        }
      ]
    },
    {
      "cell_type": "markdown",
      "metadata": {
        "id": "cWiT0BK2IU4c"
      },
      "source": [
        "# Train bilingual embeddings"
      ]
    },
    {
      "cell_type": "markdown",
      "metadata": {
        "id": "mfTNXVb0HNvu"
      },
      "source": [
        "Bilingual embeddings are trained using multivec."
      ]
    },
    {
      "cell_type": "markdown",
      "metadata": {
        "id": "CA0jieAo9G5B"
      },
      "source": [
        "For training a non-lemmatized corpus is used (found empirically)."
      ]
    },
    {
      "cell_type": "code",
      "metadata": {
        "id": "Ki7WEW34WALH"
      },
      "source": [
        "!scripts/prepare-data.py data/training/news-commentary-v9.de-en data/news-commentary de en --tokenize --normalize-punk"
      ],
      "execution_count": null,
      "outputs": []
    },
    {
      "cell_type": "code",
      "metadata": {
        "colab": {
          "base_uri": "https://localhost:8080/"
        },
        "id": "ft6Zg37Pm9Wa",
        "outputId": "b4556a17-d41d-49ef-d259-e4d0c188e720"
      },
      "source": [
        "!bin/multivec-bi --train-src data/news-commentary.de --train-trg data/news-commentary.en --save models/news-commentary.de-en.bin --threads 16"
      ],
      "execution_count": null,
      "outputs": [
        {
          "output_type": "stream",
          "text": [
            "MultiVec-bi\n",
            "dimension:   100\n",
            "window size: 5\n",
            "min count:   5\n",
            "alpha:       0.05\n",
            "iterations:  5\n",
            "threads:     16\n",
            "subsampling: 0.001\n",
            "skip-gram:   false\n",
            "HS:          false\n",
            "negative:    5\n",
            "sent vector: false\n",
            "beta:        1\n",
            "Training files: data/news-commentary.de, data/news-commentary.en\n",
            "tcmalloc: large alloc 1073741824 bytes == 0x55c310bc0000 @  0x7f457790f887 0x55c2cd794768 0x55c2cd7a2454 0x55c2cd78f835 0x55c2cd7897cf 0x7f45769acbf7 0x55c2cd789ada\n",
            "Training time: 180.485\n"
          ],
          "name": "stdout"
        }
      ]
    },
    {
      "cell_type": "code",
      "metadata": {
        "id": "1PvvxGxXFrLI"
      },
      "source": [
        "# cython/makefile python2 ->  python3"
      ],
      "execution_count": null,
      "outputs": []
    },
    {
      "cell_type": "code",
      "metadata": {
        "colab": {
          "base_uri": "https://localhost:8080/"
        },
        "id": "FDCQLP6eFth4",
        "outputId": "d6709333-69bf-4fc0-ba15-07942e53d416"
      },
      "source": [
        "%cd cython"
      ],
      "execution_count": null,
      "outputs": [
        {
          "output_type": "stream",
          "text": [
            "/content/multivec/cython\n"
          ],
          "name": "stdout"
        }
      ]
    },
    {
      "cell_type": "code",
      "metadata": {
        "colab": {
          "base_uri": "https://localhost:8080/"
        },
        "id": "AvitOpJDF7U9",
        "outputId": "f1e3b2c7-d87b-4a7c-f574-b4065930a205"
      },
      "source": [
        "!make"
      ],
      "execution_count": null,
      "outputs": [
        {
          "output_type": "stream",
          "text": [
            "python3 setup.py build\n",
            "Compiling multivec.pyx because it changed.\n",
            "[1/1] Cythonizing multivec.pyx\n",
            "/usr/local/lib/python3.7/dist-packages/Cython/Compiler/Main.py:369: FutureWarning: Cython directive 'language_level' not set, using 2 for now (Py2). This will change in a later release! File: /content/multivec/cython/multivec.pyx\n",
            "  tree = Parsing.p_module(s, pxd, full_module_name)\n",
            "running build\n",
            "running build_ext\n",
            "building 'multivec' extension\n",
            "creating build\n",
            "creating build/temp.linux-x86_64-3.7\n",
            "creating build/multivec\n",
            "x86_64-linux-gnu-gcc -pthread -Wno-unused-result -Wsign-compare -DNDEBUG -g -fwrapv -O2 -Wall -g -fdebug-prefix-map=/build/python3.7-OGiuun/python3.7-3.7.10=. -fstack-protector-strong -Wformat -Werror=format-security -g -fdebug-prefix-map=/build/python3.7-OGiuun/python3.7-3.7.10=. -fstack-protector-strong -Wformat -Werror=format-security -Wdate-time -D_FORTIFY_SOURCE=2 -fPIC -UNDEBUG -I/usr/local/lib/python3.7/dist-packages/numpy/core/include -I/usr/include/python3.7m -c multivec.cpp -o build/temp.linux-x86_64-3.7/multivec.o --std=c++11 -w -I../multivec -O3\n",
            "x86_64-linux-gnu-gcc -pthread -Wno-unused-result -Wsign-compare -DNDEBUG -g -fwrapv -O2 -Wall -g -fdebug-prefix-map=/build/python3.7-OGiuun/python3.7-3.7.10=. -fstack-protector-strong -Wformat -Werror=format-security -g -fdebug-prefix-map=/build/python3.7-OGiuun/python3.7-3.7.10=. -fstack-protector-strong -Wformat -Werror=format-security -Wdate-time -D_FORTIFY_SOURCE=2 -fPIC -UNDEBUG -I/usr/local/lib/python3.7/dist-packages/numpy/core/include -I/usr/include/python3.7m -c ../multivec/monolingual.cpp -o build/temp.linux-x86_64-3.7/../multivec/monolingual.o --std=c++11 -w -I../multivec -O3\n",
            "x86_64-linux-gnu-gcc -pthread -Wno-unused-result -Wsign-compare -DNDEBUG -g -fwrapv -O2 -Wall -g -fdebug-prefix-map=/build/python3.7-OGiuun/python3.7-3.7.10=. -fstack-protector-strong -Wformat -Werror=format-security -g -fdebug-prefix-map=/build/python3.7-OGiuun/python3.7-3.7.10=. -fstack-protector-strong -Wformat -Werror=format-security -Wdate-time -D_FORTIFY_SOURCE=2 -fPIC -UNDEBUG -I/usr/local/lib/python3.7/dist-packages/numpy/core/include -I/usr/include/python3.7m -c ../multivec/bilingual.cpp -o build/temp.linux-x86_64-3.7/../multivec/bilingual.o --std=c++11 -w -I../multivec -O3\n",
            "x86_64-linux-gnu-gcc -pthread -Wno-unused-result -Wsign-compare -DNDEBUG -g -fwrapv -O2 -Wall -g -fdebug-prefix-map=/build/python3.7-OGiuun/python3.7-3.7.10=. -fstack-protector-strong -Wformat -Werror=format-security -g -fdebug-prefix-map=/build/python3.7-OGiuun/python3.7-3.7.10=. -fstack-protector-strong -Wformat -Werror=format-security -Wdate-time -D_FORTIFY_SOURCE=2 -fPIC -UNDEBUG -I/usr/local/lib/python3.7/dist-packages/numpy/core/include -I/usr/include/python3.7m -c ../multivec/distance.cpp -o build/temp.linux-x86_64-3.7/../multivec/distance.o --std=c++11 -w -I../multivec -O3\n",
            "creating build/lib.linux-x86_64-3.7\n",
            "x86_64-linux-gnu-g++ -pthread -shared -Wl,-O1 -Wl,-Bsymbolic-functions -Wl,-Bsymbolic-functions -Wl,-z,relro -Wl,-Bsymbolic-functions -Wl,-z,relro -g -fdebug-prefix-map=/build/python3.7-OGiuun/python3.7-3.7.10=. -fstack-protector-strong -Wformat -Werror=format-security -Wdate-time -D_FORTIFY_SOURCE=2 build/temp.linux-x86_64-3.7/multivec.o build/temp.linux-x86_64-3.7/../multivec/monolingual.o build/temp.linux-x86_64-3.7/../multivec/bilingual.o build/temp.linux-x86_64-3.7/../multivec/distance.o -lm -o build/lib.linux-x86_64-3.7/multivec.cpython-37m-x86_64-linux-gnu.so\n",
            "cp build/lib.linux-x86_64-3*/*.so multivec.so\n"
          ],
          "name": "stdout"
        }
      ]
    },
    {
      "cell_type": "code",
      "metadata": {
        "id": "NIlk_fOjF9M2"
      },
      "source": [
        "from multivec import MonolingualModel, BilingualModel"
      ],
      "execution_count": null,
      "outputs": []
    },
    {
      "cell_type": "code",
      "metadata": {
        "id": "s12O0DkNFMUJ"
      },
      "source": [
        "news_model = BilingualModel(b'../models/news-commentary.de-en.bin')"
      ],
      "execution_count": null,
      "outputs": []
    },
    {
      "cell_type": "code",
      "metadata": {
        "colab": {
          "base_uri": "https://localhost:8080/"
        },
        "id": "YekAksX4GYOI",
        "outputId": "2bd41663-ee80-4e35-cd03-b6952d734d3a"
      },
      "source": [
        "news_model"
      ],
      "execution_count": null,
      "outputs": [
        {
          "output_type": "execute_result",
          "data": {
            "text/plain": [
              "<multivec.BilingualModel at 0x7fb7830794b0>"
            ]
          },
          "metadata": {
            "tags": []
          },
          "execution_count": 51
        }
      ]
    },
    {
      "cell_type": "markdown",
      "metadata": {
        "id": "Clp3tsmxoadI"
      },
      "source": [
        "The results seem promising.\n",
        "\n",
        "With the lemmatized corpus results were worse, that is why the tokenized version is used for training."
      ]
    },
    {
      "cell_type": "code",
      "metadata": {
        "colab": {
          "base_uri": "https://localhost:8080/"
        },
        "id": "ECaaDgOsGfkA",
        "outputId": "9dc5b5fc-d586-44f6-9270-de4f1fe0bdaf"
      },
      "source": [
        "news_model.trg_closest(b'Beispiel')"
      ],
      "execution_count": null,
      "outputs": [
        {
          "output_type": "execute_result",
          "data": {
            "text/plain": [
              "[(b'example', 0.6098706126213074),\n",
              " (b'instance', 0.5744057297706604),\n",
              " (b'Take', 0.43994414806365967),\n",
              " (b'Dalit', 0.4334424138069153),\n",
              " (b'instructive', 0.3968197703361511),\n",
              " (b'Iceland', 0.3956241011619568),\n",
              " (b'Consider', 0.38580814003944397),\n",
              " (b'Straw', 0.38547778129577637),\n",
              " (b'Witness', 0.3854774534702301),\n",
              " (b'Ghanaian', 0.37877997756004333)]"
            ]
          },
          "metadata": {
            "tags": []
          },
          "execution_count": 52
        }
      ]
    },
    {
      "cell_type": "code",
      "metadata": {
        "colab": {
          "base_uri": "https://localhost:8080/"
        },
        "id": "2FoUp_3x4tZc",
        "outputId": "fe9fd947-4dce-47ed-e263-5599296f3885"
      },
      "source": [
        "news_model.trg_closest(b'gut')"
      ],
      "execution_count": null,
      "outputs": [
        {
          "output_type": "execute_result",
          "data": {
            "text/plain": [
              "[(b'good', 0.6450780034065247),\n",
              " (b'reasonably', 0.5584521293640137),\n",
              " (b'advised', 0.5345669984817505),\n",
              " (b'poorly', 0.5315302014350891),\n",
              " (b'performing', 0.5220630764961243),\n",
              " (b'well-functioning', 0.5138837099075317),\n",
              " (b'equipped', 0.5013648271560669),\n",
              " (b'sufficiently', 0.4940258264541626),\n",
              " (b'suited', 0.49237918853759766),\n",
              " (b'well-informed', 0.4908822178840637)]"
            ]
          },
          "metadata": {
            "tags": []
          },
          "execution_count": 56
        }
      ]
    },
    {
      "cell_type": "markdown",
      "metadata": {
        "id": "mV92buWYIfGx"
      },
      "source": [
        "# Combine all the methods"
      ]
    },
    {
      "cell_type": "markdown",
      "metadata": {
        "id": "wRPittxWJd_O"
      },
      "source": [
        "After extracting some candidates with the syntax-based tool, we need to check their frequency."
      ]
    },
    {
      "cell_type": "code",
      "metadata": {
        "id": "VTciDMJEIgoh"
      },
      "source": [
        "def find_freq_candidates(sentence: str, base_pos: str,\n",
        "                         collocate_pos: str, language : str = 'english'):\n",
        "    candidates = find_candidates(sentence, base_pos, collocate_pos, language)\n",
        "    checked_candidates = []\n",
        "    for candidate in candidates:\n",
        "        if check_frequency(candidate, 10, language):\n",
        "            checked_candidates.append(candidate)\n",
        "    \n",
        "    return checked_candidates"
      ],
      "execution_count": null,
      "outputs": []
    },
    {
      "cell_type": "markdown",
      "metadata": {
        "id": "OT3cnrsc9325"
      },
      "source": [
        "Let's look at some examples."
      ]
    },
    {
      "cell_type": "code",
      "metadata": {
        "colab": {
          "base_uri": "https://localhost:8080/"
        },
        "id": "BiAbhhis-DCx",
        "outputId": "6d30e98d-3cb4-433a-8fee-79b844532162"
      },
      "source": [
        "find_freq_candidates('because it is really hard work', 'NOUN', 'ADJ', 'english')"
      ],
      "execution_count": null,
      "outputs": [
        {
          "output_type": "execute_result",
          "data": {
            "text/plain": [
              "[('work', 'hard')]"
            ]
          },
          "metadata": {
            "tags": []
          },
          "execution_count": 34
        }
      ]
    },
    {
      "cell_type": "markdown",
      "metadata": {
        "id": "d2ABJaGVJoMr"
      },
      "source": [
        "Then, we need to align candidates (in other words, find equivalent English and German candidates)."
      ]
    },
    {
      "cell_type": "code",
      "metadata": {
        "id": "v4XbBxe_IhOk"
      },
      "source": [
        "def align_candidates(english_candidates: list, german_candidates: list):\n",
        "    aligned_candidates = []\n",
        "    for candidate in english_candidates:\n",
        "        target_translations = [word[0].decode('UTF-8') for word in news_model.src_closest(bytes(candidate[0], 'utf-8'))][:5]\n",
        "        for de_candidate in german_candidates:\n",
        "            if de_candidate[0] in target_translations:\n",
        "                collocate_translations = [word[0].decode('UTF-8') for word in news_model.trg_closest(bytes(de_candidate[1], 'utf-8'))][:5]\n",
        "                if candidate[1] in collocate_translations:\n",
        "                    aligned_candidates.append((candidate, de_candidate))\n",
        "    return aligned_candidates"
      ],
      "execution_count": null,
      "outputs": []
    },
    {
      "cell_type": "code",
      "metadata": {
        "id": "DZKAOesr-L_7"
      },
      "source": [
        "english_candidates = find_freq_candidates('because it is really hard work', 'NOUN', 'ADJ', 'english')\n",
        "german_candidates = find_freq_candidates('weil es wirklich hartes Arbeit ist', 'NOUN', 'ADJ', 'german')\n",
        "align_candidates(english_candidates, german_candidates)"
      ],
      "execution_count": null,
      "outputs": []
    },
    {
      "cell_type": "markdown",
      "metadata": {
        "id": "O1ENdRAhJzoQ"
      },
      "source": [
        "Here is the final pipeline that combines all previous functions."
      ]
    },
    {
      "cell_type": "code",
      "metadata": {
        "id": "wzRoTJ5aIpfz"
      },
      "source": [
        "def find_bilingual_collocations(english_sentence: str, german_sentence: str,\n",
        "                                base_pos: str, collocate_pos: str):\n",
        "    english_candidates = find_freq_candidates(english_sentence, base_pos, collocate_pos, 'english')\n",
        "    german_candidates = find_freq_candidates(german_sentence, base_pos, collocate_pos, 'german')\n",
        "    return align_candidates(english_candidates, german_candidates)"
      ],
      "execution_count": null,
      "outputs": []
    },
    {
      "cell_type": "code",
      "metadata": {
        "id": "zEochfWVIx2A"
      },
      "source": [
        "english_sentence = \"i think it is the best time of the year and it is really hard work\"\n",
        "german_sentence = 'ich denke, es ist die beste Zeit des Jahres und es ist wirklich hartes Arbeit'"
      ],
      "execution_count": null,
      "outputs": []
    },
    {
      "cell_type": "code",
      "metadata": {
        "colab": {
          "base_uri": "https://localhost:8080/"
        },
        "id": "94g488xGIu6r",
        "outputId": "06b14593-b8fb-424b-a0e6-989314f62fcc"
      },
      "source": [
        "find_bilingual_collocations(english_sentence, german_sentence, 'NOUN', 'ADJ')"
      ],
      "execution_count": null,
      "outputs": [
        {
          "output_type": "execute_result",
          "data": {
            "text/plain": [
              "[(('time', 'good'), ('Zeit', 'gut')), (('work', 'hard'), ('Arbeit', 'hart'))]"
            ]
          },
          "metadata": {
            "tags": []
          },
          "execution_count": 35
        }
      ]
    },
    {
      "cell_type": "code",
      "metadata": {
        "colab": {
          "base_uri": "https://localhost:8080/"
        },
        "id": "jwa94EQ0GZ1Y",
        "outputId": "99fc3f2b-490d-40cf-adca-0f11608e46f3"
      },
      "source": [
        "find_bilingual_collocations('I read books', 'Ich lese Bücher', 'VERB', 'NOUN')"
      ],
      "execution_count": null,
      "outputs": [
        {
          "output_type": "execute_result",
          "data": {
            "text/plain": [
              "[(('read', 'book'), ('lesen', 'Buch'))]"
            ]
          },
          "metadata": {
            "tags": []
          },
          "execution_count": 56
        }
      ]
    },
    {
      "cell_type": "markdown",
      "metadata": {
        "id": "YqY8deJPE2Ev"
      },
      "source": [
        "# Extract collocations for evaluation"
      ]
    },
    {
      "cell_type": "markdown",
      "metadata": {
        "id": "n2t4All4E6d_"
      },
      "source": [
        "We will evaluate verb + noun and noun + adjective collocations."
      ]
    },
    {
      "cell_type": "markdown",
      "metadata": {
        "id": "jOqyt-vxFcfX"
      },
      "source": [
        "It takes 50 seconds to analyse 10 sentences."
      ]
    },
    {
      "cell_type": "code",
      "metadata": {
        "colab": {
          "base_uri": "https://localhost:8080/",
          "height": 307,
          "referenced_widgets": [
            "bc32faacdc61497a82fe32052c3593dc",
            "be6f069e58604b60bea48f739afde5bd",
            "49b86df3058e4793862f344fa6df26db",
            "0c0b9e583bae457f9fdcc294556cd709",
            "f40db348c9954c2b93359b4efaf6e600",
            "1cffeaceb27f41118d704bae0046b314",
            "e7c4d199ae434cc3a27d1a147f52534f",
            "e2cdb3d17cb946e296b010fc370c17fe"
          ]
        },
        "id": "UxBHF20eJAqO",
        "outputId": "c37d9204-a75f-4045-9c41-998ae0047f7e"
      },
      "source": [
        "from tqdm import tqdm_notebook\n",
        "\n",
        "feedback = []\n",
        "\n",
        "en_sents = english_corpus.split('\\n')[7000:7100]\n",
        "de_sents = german_corpus.split('\\n')[7000:7100]\n",
        "\n",
        "k = 0\n",
        "for index, sentence in tqdm_notebook(enumerate(en_sents)):\n",
        "    \n",
        "    collocations = []\n",
        "    try:\n",
        "        collocations = find_bilingual_collocations(sentence, de_sents[index],\n",
        "                                                   'VERB', 'NOUN')\n",
        "        # different_collocations = find_bilingual_collocations(sentence, de_sents[index],\n",
        "        #                                                      'VERB', 'NOUN')\n",
        "    except:\n",
        "        continue\n",
        "    else:\n",
        "        if collocations:\n",
        "          k += 1\n",
        "          print(k)\n",
        "          print(collocations)\n",
        "          feedback.append(sentence)\n",
        "          feedback.append(de_sents[index])\n",
        "          for pair in collocations:\n",
        "              feedback.append(\" \".join([' '.join(part) for part in pair]))\n",
        "          feedback.append('\\n')\n",
        "        # if different_collocations:\n",
        "        #   k += 1\n",
        "        #   print(k)\n",
        "        #   print(different_collocations)\n",
        "        #   feedback.append(sentence)\n",
        "        #   feedback.append(de_sents[index])\n",
        "        #   for pair in different_collocations:\n",
        "        #       feedback.append(\" \".join([' '.join(part) for part in pair]))\n",
        "        #   feedback.append('\\n')\n",
        "\n",
        "with open('feedback_7100', 'w') as f:\n",
        "    f.write('\\n'.join(feedback))"
      ],
      "execution_count": null,
      "outputs": [
        {
          "output_type": "stream",
          "text": [
            "/usr/local/lib/python3.7/dist-packages/ipykernel_launcher.py:9: TqdmDeprecationWarning: This function will be removed in tqdm==5.0.0\n",
            "Please use `tqdm.notebook.tqdm` instead of `tqdm.tqdm_notebook`\n",
            "  if __name__ == '__main__':\n"
          ],
          "name": "stderr"
        },
        {
          "output_type": "display_data",
          "data": {
            "application/vnd.jupyter.widget-view+json": {
              "model_id": "bc32faacdc61497a82fe32052c3593dc",
              "version_minor": 0,
              "version_major": 2
            },
            "text/plain": [
              "HBox(children=(FloatProgress(value=1.0, bar_style='info', max=1.0), HTML(value='')))"
            ]
          },
          "metadata": {
            "tags": []
          }
        },
        {
          "output_type": "stream",
          "text": [
            "1\n",
            "[(('show', 'poll'), ('zeigen', 'Meinungsumfragen'))]\n",
            "2\n",
            "[(('have', 'power'), ('haben', 'Macht'))]\n",
            "3\n",
            "[(('play', 'role'), ('spielen', 'Rolle'))]\n",
            "4\n",
            "[(('start', 'crisis'), ('beginnen', 'Krise'))]\n",
            "5\n",
            "[(('implement', 'reform'), ('umsetzen', 'Reform'))]\n",
            "\n"
          ],
          "name": "stdout"
        }
      ]
    }
  ]
}